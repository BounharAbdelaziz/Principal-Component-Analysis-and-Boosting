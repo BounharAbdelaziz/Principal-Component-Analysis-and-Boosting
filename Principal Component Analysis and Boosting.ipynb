{
 "cells": [
  {
   "cell_type": "markdown",
   "metadata": {},
   "source": [
    "# <center> <span style=\"\"><font size=\"+3\"> Principal Component Analysis and Boosting Algorithm Implementation from scratch </font></span> </center> #\n",
    "<br/>\n",
    "<center> <span style=\"color:red; font-size : 18px\">Auteur </span> <span style=\"font-size : 18px\"> : Bounhar Abdelaziz </span> </center>"
   ]
  },
  {
   "cell_type": "markdown",
   "metadata": {},
   "source": [
    "AdaBoost algorithm for a two-class classification problem. The algorithm sequentially applies a weak classification to modified versions of the data. By increasing the weights of the missclassified observations, each weak learner focuses on the error of the previous one. The predictions are aggregated through a weighted majority vote."
   ]
  },
  {
   "cell_type": "code",
   "execution_count": 139,
   "metadata": {},
   "outputs": [],
   "source": [
    "import pandas as pd\n",
    "import numpy as np\n",
    "from sklearn.tree import DecisionTreeClassifier\n",
    "from sklearn.model_selection import train_test_split\n",
    "from sklearn.datasets import make_hastie_10_2\n",
    "import matplotlib.pyplot as plt\n",
    "from tqdm import tqdm"
   ]
  },
  {
   "cell_type": "code",
   "execution_count": 140,
   "metadata": {},
   "outputs": [
    {
     "name": "stdout",
     "output_type": "stream",
     "text": [
      "The autoreload extension is already loaded. To reload it, use:\n",
      "  %reload_ext autoreload\n"
     ]
    },
    {
     "data": {
      "text/html": [
       "\n",
       "<style>\n",
       ".output_png {\n",
       "    display: table-cell;\n",
       "    text-align: center;\n",
       "    vertical-align: middle;\n",
       "}\n",
       "</style>\n"
      ],
      "text/plain": [
       "<IPython.core.display.HTML object>"
      ]
     },
     "execution_count": 140,
     "metadata": {},
     "output_type": "execute_result"
    }
   ],
   "source": [
    "# Useful starting lines\n",
    "%matplotlib inline\n",
    "\n",
    "%load_ext autoreload\n",
    "%autoreload 2\n",
    "\n",
    "from IPython.core.display import HTML\n",
    "HTML(\"\"\"\n",
    "<style>\n",
    ".output_png {\n",
    "    display: table-cell;\n",
    "    text-align: center;\n",
    "    vertical-align: middle;\n",
    "}\n",
    "</style>\n",
    "\"\"\")"
   ]
  },
  {
   "cell_type": "markdown",
   "metadata": {},
   "source": [
    "## Helpers Functions"
   ]
  },
  {
   "cell_type": "code",
   "execution_count": 141,
   "metadata": {},
   "outputs": [],
   "source": [
    "def plot_error_rate(er_train, er_test):\n",
    "    \n",
    "    df_error = pd.DataFrame([er_train, er_test]).T\n",
    "    df_error.columns = ['Training', 'Test']\n",
    "    plot1 = df_error.plot(linewidth = 3, figsize = (8,6),\n",
    "            color = ['lightblue', 'darkblue'], grid = True)\n",
    "    plot1.set_xlabel('Number of iterations', fontsize = 12)\n",
    "    plot1.set_xticklabels(range(0,450,50))\n",
    "    plot1.set_ylabel('Error rate', fontsize = 12)\n",
    "    plot1.set_title('Error rate vs number of iterations', fontsize = 16)\n",
    "    plt.axhline(y=er_test[0], linewidth=1, color = 'red', ls = 'dashed')\n",
    "    plt.savefig('adaboost.pdf',format='pdf')"
   ]
  },
  {
   "cell_type": "code",
   "execution_count": 142,
   "metadata": {},
   "outputs": [],
   "source": [
    "def get_error_rate(pred, Y):\n",
    "    return sum(pred != Y) / float(len(Y))"
   ]
  },
  {
   "cell_type": "code",
   "execution_count": 143,
   "metadata": {},
   "outputs": [],
   "source": [
    "def print_error_rate(err):\n",
    "    print('Error rate: Training: %.4f - Test: %.4f'.format(err))"
   ]
  },
  {
   "cell_type": "markdown",
   "metadata": {},
   "source": [
    "## Weak Learners"
   ]
  },
  {
   "cell_type": "code",
   "execution_count": 144,
   "metadata": {},
   "outputs": [],
   "source": [
    "def generic_clf(Y_train, X_train, Y_test, X_test, clf):\n",
    "    clf.fit(X_train,Y_train)\n",
    "    pred_train = clf.predict(X_train)\n",
    "    pred_test = clf.predict(X_test)\n",
    "    return get_error_rate(pred_train, Y_train),get_error_rate(pred_test, Y_test)"
   ]
  },
  {
   "cell_type": "markdown",
   "metadata": {},
   "source": [
    "# Datasets :\n",
    "##### Generates data for binary classification used in Hastie et al. 2009, Example 10.2."
   ]
  },
  {
   "cell_type": "code",
   "execution_count": 145,
   "metadata": {},
   "outputs": [],
   "source": [
    "# Read data\n",
    "x, y = make_hastie_10_2()\n",
    "df = pd.DataFrame(x)\n",
    "df['Y'] = y\n",
    "\n",
    "# Split into training and test set\n",
    "train, test = train_test_split(df, test_size = 0.2)\n",
    "X_train, Y_train = train.iloc[:,:-1], train.iloc[:,-1]\n",
    "X_test, Y_test = test.iloc[:,:-1], test.iloc[:,-1]"
   ]
  },
  {
   "cell_type": "code",
   "execution_count": 146,
   "metadata": {},
   "outputs": [
    {
     "name": "stdout",
     "output_type": "stream",
     "text": [
      "Single Weak Learner Achieves \n",
      " Train Error of 0.45416666666666666 \n",
      " Test Error of 0.47541666666666665\n"
     ]
    }
   ],
   "source": [
    "# Fit a simple decision tree first\n",
    "clf_tree = DecisionTreeClassifier(max_depth = 1, random_state = 1)\n",
    "er_tree = generic_clf(Y_train, X_train, Y_test, X_test, clf_tree)\n",
    "print('Single Weak Learner Achieves \\n Train Error of {} \\n Test Error of {}'.format(er_tree[0],er_tree[1]))"
   ]
  },
  {
   "cell_type": "markdown",
   "metadata": {},
   "source": [
    "# Implement an adaboost classifier"
   ]
  },
  {
   "cell_type": "code",
   "execution_count": 147,
   "metadata": {},
   "outputs": [],
   "source": [
    "def adaboost_clf(Y_train, X_train, Y_test, X_test, M, clf):\n",
    "    n_train, n_test = len(X_train), len(X_test)\n",
    "    # Initialize weights\n",
    "    w = np.ones(n_train) / n_train # uniform distribution over the weights\n",
    "    pred_train, pred_test = [np.zeros(n_train), np.zeros(n_test)]\n",
    "    \n",
    "    for i in range(M):\n",
    "        # Fit a classifier with the specific weights\n",
    "        clf.fit(X_train, Y_train, sample_weight = w)\n",
    "        pred_train_i = clf.predict(X_train)\n",
    "        pred_test_i = clf.predict(X_test)\n",
    "        \n",
    "        y = Y_train.to_numpy()\n",
    "\n",
    "        # Indicator function\n",
    "        miss = np.sum(pred_test_i != Y_test)\n",
    "        \n",
    "        \n",
    "        # Error\n",
    "        err_m = 0\n",
    "        for j in range(len(pred_train_i)):\n",
    "            if pred_train_i[j] != y[j] :\n",
    "                err_m = err_m + w[j]\n",
    "        err_m = err_m/np.sum(w)\n",
    "        \n",
    "        \n",
    "        # Equivalent with 1/-1 to update weights\n",
    "        miss2 = 0\n",
    "        \n",
    "        # Alpha\n",
    "        if np.absolute(np.log((1-err_m)/err_m)) < np.finfo(float).eps :\n",
    "            alpha_m = np.finfo(float).eps\n",
    "        else :\n",
    "            alpha_m = np.log((1-err_m)/err_m)\n",
    "            \n",
    "        # New weights\n",
    "        for j in range(len(w)):\n",
    "            if pred_train_i[j] != y[j] :                \n",
    "                w[j] = w[j]*np.exp(alpha_m)\n",
    "        \n",
    "        # Add to prediction\n",
    "        pred_train = [sum(x) for x in zip(pred_train, \n",
    "                                          [x * alpha_m for x in pred_train_i])]\n",
    "        pred_test = [sum(x) for x in zip(pred_test, \n",
    "                                         [x * alpha_m for x in pred_test_i])]\n",
    "    \n",
    "    pred_train, pred_test = np.sign(pred_train), np.sign(pred_test)\n",
    "    # Return error rate in train and test set\n",
    "    #print(w)\n",
    "    return get_error_rate(pred_train, Y_train), get_error_rate(pred_test, Y_test)"
   ]
  },
  {
   "cell_type": "markdown",
   "metadata": {},
   "source": [
    "# Fit Adaboost classifier using a decision tree as base estimator"
   ]
  },
  {
   "cell_type": "code",
   "execution_count": 148,
   "metadata": {},
   "outputs": [
    {
     "data": {
      "text/html": [
       "<div>\n",
       "<style scoped>\n",
       "    .dataframe tbody tr th:only-of-type {\n",
       "        vertical-align: middle;\n",
       "    }\n",
       "\n",
       "    .dataframe tbody tr th {\n",
       "        vertical-align: top;\n",
       "    }\n",
       "\n",
       "    .dataframe thead th {\n",
       "        text-align: right;\n",
       "    }\n",
       "</style>\n",
       "<table border=\"1\" class=\"dataframe\">\n",
       "  <thead>\n",
       "    <tr style=\"text-align: right;\">\n",
       "      <th></th>\n",
       "      <th>0</th>\n",
       "      <th>1</th>\n",
       "      <th>2</th>\n",
       "      <th>3</th>\n",
       "      <th>4</th>\n",
       "      <th>5</th>\n",
       "      <th>6</th>\n",
       "      <th>7</th>\n",
       "      <th>8</th>\n",
       "      <th>9</th>\n",
       "    </tr>\n",
       "  </thead>\n",
       "  <tbody>\n",
       "    <tr>\n",
       "      <th>count</th>\n",
       "      <td>9600.000000</td>\n",
       "      <td>9600.000000</td>\n",
       "      <td>9600.000000</td>\n",
       "      <td>9600.000000</td>\n",
       "      <td>9600.000000</td>\n",
       "      <td>9600.000000</td>\n",
       "      <td>9600.000000</td>\n",
       "      <td>9600.000000</td>\n",
       "      <td>9600.000000</td>\n",
       "      <td>9600.000000</td>\n",
       "    </tr>\n",
       "    <tr>\n",
       "      <th>mean</th>\n",
       "      <td>-0.002764</td>\n",
       "      <td>0.000718</td>\n",
       "      <td>-0.000312</td>\n",
       "      <td>-0.005838</td>\n",
       "      <td>-0.000378</td>\n",
       "      <td>0.015266</td>\n",
       "      <td>0.013182</td>\n",
       "      <td>0.004649</td>\n",
       "      <td>0.010130</td>\n",
       "      <td>0.011597</td>\n",
       "    </tr>\n",
       "    <tr>\n",
       "      <th>std</th>\n",
       "      <td>0.998243</td>\n",
       "      <td>0.997048</td>\n",
       "      <td>0.992036</td>\n",
       "      <td>0.997160</td>\n",
       "      <td>1.000038</td>\n",
       "      <td>1.006999</td>\n",
       "      <td>0.996018</td>\n",
       "      <td>0.992166</td>\n",
       "      <td>1.000973</td>\n",
       "      <td>0.993940</td>\n",
       "    </tr>\n",
       "    <tr>\n",
       "      <th>min</th>\n",
       "      <td>-3.688008</td>\n",
       "      <td>-3.963332</td>\n",
       "      <td>-3.862628</td>\n",
       "      <td>-3.814698</td>\n",
       "      <td>-3.641475</td>\n",
       "      <td>-3.675005</td>\n",
       "      <td>-4.228269</td>\n",
       "      <td>-3.480437</td>\n",
       "      <td>-3.564527</td>\n",
       "      <td>-3.948343</td>\n",
       "    </tr>\n",
       "    <tr>\n",
       "      <th>25%</th>\n",
       "      <td>-0.677368</td>\n",
       "      <td>-0.675066</td>\n",
       "      <td>-0.660567</td>\n",
       "      <td>-0.673960</td>\n",
       "      <td>-0.674201</td>\n",
       "      <td>-0.665933</td>\n",
       "      <td>-0.649516</td>\n",
       "      <td>-0.671814</td>\n",
       "      <td>-0.667513</td>\n",
       "      <td>-0.638948</td>\n",
       "    </tr>\n",
       "    <tr>\n",
       "      <th>50%</th>\n",
       "      <td>-0.005041</td>\n",
       "      <td>0.007201</td>\n",
       "      <td>-0.006232</td>\n",
       "      <td>0.006105</td>\n",
       "      <td>-0.010012</td>\n",
       "      <td>0.006476</td>\n",
       "      <td>0.027434</td>\n",
       "      <td>-0.011272</td>\n",
       "      <td>0.010430</td>\n",
       "      <td>0.010758</td>\n",
       "    </tr>\n",
       "    <tr>\n",
       "      <th>75%</th>\n",
       "      <td>0.670655</td>\n",
       "      <td>0.678450</td>\n",
       "      <td>0.670771</td>\n",
       "      <td>0.665838</td>\n",
       "      <td>0.667444</td>\n",
       "      <td>0.712064</td>\n",
       "      <td>0.677137</td>\n",
       "      <td>0.659363</td>\n",
       "      <td>0.681641</td>\n",
       "      <td>0.686087</td>\n",
       "    </tr>\n",
       "    <tr>\n",
       "      <th>max</th>\n",
       "      <td>3.833251</td>\n",
       "      <td>3.544364</td>\n",
       "      <td>3.652353</td>\n",
       "      <td>3.781675</td>\n",
       "      <td>4.057076</td>\n",
       "      <td>3.581236</td>\n",
       "      <td>4.434690</td>\n",
       "      <td>3.991831</td>\n",
       "      <td>3.609162</td>\n",
       "      <td>3.614570</td>\n",
       "    </tr>\n",
       "  </tbody>\n",
       "</table>\n",
       "</div>"
      ],
      "text/plain": [
       "                 0            1            2            3            4  \\\n",
       "count  9600.000000  9600.000000  9600.000000  9600.000000  9600.000000   \n",
       "mean     -0.002764     0.000718    -0.000312    -0.005838    -0.000378   \n",
       "std       0.998243     0.997048     0.992036     0.997160     1.000038   \n",
       "min      -3.688008    -3.963332    -3.862628    -3.814698    -3.641475   \n",
       "25%      -0.677368    -0.675066    -0.660567    -0.673960    -0.674201   \n",
       "50%      -0.005041     0.007201    -0.006232     0.006105    -0.010012   \n",
       "75%       0.670655     0.678450     0.670771     0.665838     0.667444   \n",
       "max       3.833251     3.544364     3.652353     3.781675     4.057076   \n",
       "\n",
       "                 5            6            7            8            9  \n",
       "count  9600.000000  9600.000000  9600.000000  9600.000000  9600.000000  \n",
       "mean      0.015266     0.013182     0.004649     0.010130     0.011597  \n",
       "std       1.006999     0.996018     0.992166     1.000973     0.993940  \n",
       "min      -3.675005    -4.228269    -3.480437    -3.564527    -3.948343  \n",
       "25%      -0.665933    -0.649516    -0.671814    -0.667513    -0.638948  \n",
       "50%       0.006476     0.027434    -0.011272     0.010430     0.010758  \n",
       "75%       0.712064     0.677137     0.659363     0.681641     0.686087  \n",
       "max       3.581236     4.434690     3.991831     3.609162     3.614570  "
      ]
     },
     "execution_count": 148,
     "metadata": {},
     "output_type": "execute_result"
    }
   ],
   "source": [
    "# let's see if the data is scaled\n",
    "X_train.describe()"
   ]
  },
  {
   "cell_type": "code",
   "execution_count": 149,
   "metadata": {},
   "outputs": [
    {
     "name": "stderr",
     "output_type": "stream",
     "text": [
      "\n",
      "\n",
      "\n",
      "  0%|                                                                                           | 0/39 [00:00<?, ?it/s]\n",
      "\n",
      "\n",
      "  3%|██▏                                                                                | 1/39 [00:00<00:17,  2.23it/s]\n",
      "\n",
      "\n",
      "  5%|████▎                                                                              | 2/39 [00:01<00:22,  1.68it/s]\n",
      "\n",
      "\n",
      "  8%|██████▍                                                                            | 3/39 [00:02<00:30,  1.18it/s]\n",
      "\n",
      "\n",
      " 10%|████████▌                                                                          | 4/39 [00:04<00:41,  1.17s/it]\n",
      "\n",
      "\n",
      " 13%|██████████▋                                                                        | 5/39 [00:07<01:00,  1.77s/it]\n",
      "\n",
      "\n",
      " 15%|████████████▊                                                                      | 6/39 [00:10<01:07,  2.03s/it]\n",
      "\n",
      "\n",
      " 18%|██████████████▉                                                                    | 7/39 [00:13<01:15,  2.36s/it]\n",
      "\n",
      "\n",
      " 21%|█████████████████                                                                  | 8/39 [00:17<01:22,  2.65s/it]\n",
      "\n",
      "\n",
      " 23%|███████████████████▏                                                               | 9/39 [00:22<01:42,  3.43s/it]\n",
      "\n",
      "\n",
      " 26%|█████████████████████                                                             | 10/39 [00:26<01:48,  3.74s/it]\n",
      "\n",
      "\n",
      " 28%|███████████████████████▏                                                          | 11/39 [00:31<01:51,  4.00s/it]\n",
      "\n",
      "\n",
      " 31%|█████████████████████████▏                                                        | 12/39 [00:36<02:00,  4.45s/it]\n",
      "\n",
      "\n",
      " 33%|███████████████████████████▎                                                      | 13/39 [00:42<02:07,  4.89s/it]\n",
      "\n",
      "\n",
      " 36%|█████████████████████████████▍                                                    | 14/39 [00:49<02:16,  5.45s/it]\n",
      "\n",
      "\n",
      " 38%|███████████████████████████████▌                                                  | 15/39 [00:56<02:19,  5.80s/it]\n",
      "\n",
      "\n",
      " 41%|█████████████████████████████████▋                                                | 16/39 [01:03<02:23,  6.22s/it]\n",
      "\n",
      "\n",
      " 44%|███████████████████████████████████▋                                              | 17/39 [01:10<02:26,  6.66s/it]\n",
      "\n",
      "\n",
      " 46%|█████████████████████████████████████▊                                            | 18/39 [01:19<02:29,  7.13s/it]\n",
      "\n",
      "\n",
      " 49%|███████████████████████████████████████▉                                          | 19/39 [01:27<02:29,  7.47s/it]\n",
      "\n",
      "\n",
      " 51%|██████████████████████████████████████████                                        | 20/39 [01:36<02:31,  7.98s/it]\n",
      "\n",
      "\n",
      " 54%|████████████████████████████████████████████▏                                     | 21/39 [01:47<02:38,  8.78s/it]\n",
      "\n",
      "\n",
      " 56%|██████████████████████████████████████████████▎                                   | 22/39 [01:57<02:34,  9.11s/it]\n",
      "\n",
      "\n",
      " 59%|████████████████████████████████████████████████▎                                 | 23/39 [02:06<02:27,  9.23s/it]\n",
      "\n",
      "\n",
      " 62%|██████████████████████████████████████████████████▍                               | 24/39 [02:16<02:21,  9.44s/it]\n",
      "\n",
      "\n",
      " 64%|████████████████████████████████████████████████████▌                             | 25/39 [02:27<02:18,  9.91s/it]\n",
      "\n",
      "\n",
      " 67%|██████████████████████████████████████████████████████▋                           | 26/39 [02:38<02:11, 10.14s/it]\n",
      "\n",
      "\n",
      " 69%|████████████████████████████████████████████████████████▊                         | 27/39 [02:49<02:05, 10.49s/it]\n",
      "\n",
      "\n",
      " 72%|██████████████████████████████████████████████████████████▊                       | 28/39 [03:01<01:59, 10.82s/it]\n",
      "\n",
      "\n",
      " 74%|████████████████████████████████████████████████████████████▉                     | 29/39 [03:13<01:51, 11.16s/it]\n",
      "\n",
      "\n",
      " 77%|███████████████████████████████████████████████████████████████                   | 30/39 [03:25<01:43, 11.52s/it]\n",
      "\n",
      "\n",
      " 79%|█████████████████████████████████████████████████████████████████▏                | 31/39 [03:38<01:36, 12.08s/it]\n",
      "\n",
      "\n",
      " 82%|███████████████████████████████████████████████████████████████████▎              | 32/39 [03:52<01:26, 12.42s/it]\n",
      "\n",
      "\n",
      " 85%|█████████████████████████████████████████████████████████████████████▍            | 33/39 [04:05<01:16, 12.79s/it]\n",
      "\n",
      "\n",
      " 87%|███████████████████████████████████████████████████████████████████████▍          | 34/39 [04:20<01:06, 13.23s/it]\n",
      "\n",
      "\n",
      " 90%|█████████████████████████████████████████████████████████████████████████▌        | 35/39 [04:34<00:54, 13.59s/it]\n",
      "\n",
      "\n",
      " 92%|███████████████████████████████████████████████████████████████████████████▋      | 36/39 [04:49<00:42, 14.02s/it]\n",
      "\n",
      "\n",
      " 95%|█████████████████████████████████████████████████████████████████████████████▊    | 37/39 [05:04<00:28, 14.40s/it]\n",
      "\n",
      "\n",
      " 97%|███████████████████████████████████████████████████████████████████████████████▉  | 38/39 [05:20<00:14, 14.80s/it]\n",
      "\n",
      "\n",
      "100%|██████████████████████████████████████████████████████████████████████████████████| 39/39 [05:36<00:00,  8.63s/it]\n",
      "c:\\python36\\lib\\site-packages\\ipykernel_launcher.py:8: UserWarning: FixedFormatter should only be used together with FixedLocator\n",
      "  \n"
     ]
    },
    {
     "data": {
      "image/png": "[encoded data removed]",
      "text/plain": [
       "<Figure size 576x432 with 1 Axes>"
      ]
     },
     "metadata": {
      "needs_background": "light"
     },
     "output_type": "display_data"
    }
   ],
   "source": [
    "# Test with different number of iterations\n",
    "er_train, er_test = [er_tree[0]], [er_tree[1]]\n",
    "x_range = range(10, 400, 10)\n",
    "\n",
    "for i in tqdm(x_range):\n",
    "    er_i = adaboost_clf(Y_train, X_train, Y_test, X_test, i, clf_tree)\n",
    "    er_train.append(er_i[0])\n",
    "    er_test.append(er_i[1])\n",
    "    \n",
    "# Compare error rate vs number of iterations\n",
    "plot_error_rate(er_train, er_test)"
   ]
  },
  {
   "cell_type": "markdown",
   "metadata": {},
   "source": [
    "### Comments :\n",
    "\n",
    "We can clearly see that over the iterations of the training phase, the classifier gets betters and better, untill it reaches a level of error rate =0.1 and stops from improving a lot. Actually, if we increase the number of iterations, after reaching a certain number of iteration, the classifier will be overfitting the training data. \n",
    "This treshold is caracterized by : nbrOfIteration >> VCdim(H).\n",
    "\n",
    "In the next experience, we will try to find this maximum number of Iteration for which we will be overfitting the training data."
   ]
  },
  {
   "cell_type": "code",
   "execution_count": 150,
   "metadata": {},
   "outputs": [
    {
     "name": "stderr",
     "output_type": "stream",
     "text": [
      "\n",
      "\n",
      "\n",
      "  0%|                                                                                           | 0/89 [00:00<?, ?it/s]\n",
      "\n",
      "\n",
      "  1%|▉                                                                                  | 1/89 [00:00<00:37,  2.33it/s]\n",
      "\n",
      "\n",
      "  2%|█▊                                                                                 | 2/89 [00:01<00:49,  1.76it/s]\n",
      "\n",
      "\n",
      "  3%|██▊                                                                                | 3/89 [00:02<01:06,  1.30it/s]\n",
      "\n",
      "\n",
      "  4%|███▋                                                                               | 4/89 [00:04<01:27,  1.03s/it]\n",
      "\n",
      "\n",
      "  6%|████▋                                                                              | 5/89 [00:06<01:52,  1.34s/it]\n",
      "\n",
      "\n",
      "  7%|█████▌                                                                             | 6/89 [00:08<02:19,  1.68s/it]\n",
      "\n",
      "\n",
      "  8%|██████▌                                                                            | 7/89 [00:11<02:48,  2.05s/it]\n",
      "\n",
      "\n",
      "  9%|███████▍                                                                           | 8/89 [00:14<03:16,  2.43s/it]\n",
      "\n",
      "\n",
      " 10%|████████▍                                                                          | 9/89 [00:18<03:50,  2.88s/it]\n",
      "\n",
      "\n",
      " 11%|█████████▏                                                                        | 10/89 [00:23<04:17,  3.25s/it]\n",
      "\n",
      "\n",
      " 12%|██████████▏                                                                       | 11/89 [00:28<05:08,  3.95s/it]\n",
      "\n",
      "\n",
      " 13%|███████████                                                                       | 12/89 [00:33<05:27,  4.25s/it]\n",
      "\n",
      "\n",
      " 15%|███████████▉                                                                      | 13/89 [00:38<05:48,  4.58s/it]\n",
      "\n",
      "\n",
      " 16%|████████████▉                                                                     | 14/89 [00:44<06:09,  4.92s/it]\n",
      "\n",
      "\n",
      " 17%|█████████████▊                                                                    | 15/89 [00:50<06:31,  5.30s/it]\n",
      "\n",
      "\n",
      " 18%|██████████████▋                                                                   | 16/89 [00:57<06:55,  5.69s/it]\n",
      "\n",
      "\n",
      " 19%|███████████████▋                                                                  | 17/89 [01:04<07:18,  6.09s/it]\n",
      "\n",
      "\n",
      " 20%|████████████████▌                                                                 | 18/89 [01:11<07:41,  6.50s/it]\n",
      "\n",
      "\n",
      " 21%|█████████████████▌                                                                | 19/89 [01:20<08:16,  7.09s/it]\n",
      "\n",
      "\n",
      " 22%|██████████████████▍                                                               | 20/89 [01:28<08:37,  7.50s/it]\n",
      "\n",
      "\n",
      " 24%|███████████████████▎                                                              | 21/89 [01:37<08:54,  7.86s/it]\n",
      "\n",
      "\n",
      " 25%|████████████████████▎                                                             | 22/89 [01:47<09:19,  8.35s/it]\n",
      "\n",
      "\n",
      " 26%|█████████████████████▏                                                            | 23/89 [01:56<09:32,  8.67s/it]\n",
      "\n",
      "\n",
      " 27%|██████████████████████                                                            | 24/89 [02:06<09:48,  9.05s/it]\n",
      "\n",
      "\n",
      " 28%|███████████████████████                                                           | 25/89 [02:16<10:04,  9.45s/it]\n",
      "\n",
      "\n",
      " 29%|███████████████████████▉                                                          | 26/89 [02:27<10:18,  9.82s/it]\n",
      "\n",
      "\n",
      " 30%|████████████████████████▉                                                         | 27/89 [02:38<10:34, 10.23s/it]\n",
      "\n",
      "\n",
      " 31%|█████████████████████████▊                                                        | 28/89 [02:50<10:48, 10.63s/it]\n",
      "\n",
      "\n",
      " 33%|██████████████████████████▋                                                       | 29/89 [03:02<11:02, 11.04s/it]\n",
      "\n",
      "\n",
      " 34%|███████████████████████████▋                                                      | 30/89 [03:14<11:18, 11.49s/it]\n",
      "\n",
      "\n",
      " 35%|████████████████████████████▌                                                     | 31/89 [03:27<11:29, 11.90s/it]\n",
      "\n",
      "\n",
      " 36%|█████████████████████████████▍                                                    | 32/89 [03:40<11:40, 12.30s/it]\n",
      "\n",
      "\n",
      " 37%|██████████████████████████████▍                                                   | 33/89 [03:54<11:50, 12.69s/it]\n",
      "\n",
      "\n",
      " 38%|███████████████████████████████▎                                                  | 34/89 [04:08<12:00, 13.10s/it]\n",
      "\n",
      "\n",
      " 39%|████████████████████████████████▏                                                 | 35/89 [04:23<12:10, 13.53s/it]\n",
      "\n",
      "\n",
      " 40%|█████████████████████████████████▏                                                | 36/89 [04:37<12:19, 13.95s/it]\n",
      "\n",
      "\n",
      " 42%|██████████████████████████████████                                                | 37/89 [04:53<12:26, 14.36s/it]\n",
      "\n",
      "\n",
      " 43%|███████████████████████████████████                                               | 38/89 [05:09<12:36, 14.83s/it]\n",
      "\n",
      "\n",
      " 44%|███████████████████████████████████▉                                              | 39/89 [05:26<13:00, 15.60s/it]\n",
      "\n",
      "\n",
      " 45%|████████████████████████████████████▊                                             | 40/89 [05:56<16:18, 19.96s/it]\n",
      "\n",
      "\n",
      " 46%|█████████████████████████████████████▊                                            | 41/89 [06:15<15:48, 19.75s/it]\n",
      "\n",
      "\n",
      " 47%|██████████████████████████████████████▋                                           | 42/89 [06:33<15:02, 19.21s/it]\n",
      "\n",
      "\n",
      " 48%|███████████████████████████████████████▌                                          | 43/89 [06:52<14:33, 18.98s/it]\n",
      "\n",
      "\n",
      " 49%|████████████████████████████████████████▌                                         | 44/89 [07:11<14:09, 18.88s/it]\n",
      "\n",
      "\n",
      " 51%|█████████████████████████████████████████▍                                        | 45/89 [07:29<13:49, 18.84s/it]\n",
      "\n",
      "\n",
      " 52%|██████████████████████████████████████████▍                                       | 46/89 [07:48<13:33, 18.93s/it]\n",
      "\n",
      "\n",
      " 53%|███████████████████████████████████████████▎                                      | 47/89 [08:08<13:24, 19.15s/it]\n",
      "\n",
      "\n",
      " 54%|████████████████████████████████████████████▏                                     | 48/89 [08:28<13:17, 19.45s/it]\n",
      "\n",
      "\n",
      " 55%|█████████████████████████████████████████████▏                                    | 49/89 [08:49<13:09, 19.73s/it]\n",
      "\n",
      "\n",
      " 56%|██████████████████████████████████████████████                                    | 50/89 [09:10<13:04, 20.10s/it]\n",
      "\n",
      "\n",
      " 57%|██████████████████████████████████████████████▉                                   | 51/89 [09:31<12:55, 20.40s/it]\n",
      "\n",
      "\n",
      " 58%|███████████████████████████████████████████████▉                                  | 52/89 [09:52<12:46, 20.73s/it]\n",
      "\n",
      "\n",
      " 60%|████████████████████████████████████████████████▊                                 | 53/89 [10:14<12:39, 21.11s/it]\n",
      "\n",
      "\n",
      " 61%|█████████████████████████████████████████████████▊                                | 54/89 [10:37<12:35, 21.59s/it]\n",
      "\n",
      "\n",
      " 62%|██████████████████████████████████████████████████▋                               | 55/89 [11:00<12:26, 21.95s/it]\n",
      "\n",
      "\n",
      " 63%|███████████████████████████████████████████████████▌                              | 56/89 [11:23<12:18, 22.37s/it]\n",
      "\n",
      "\n",
      " 64%|████████████████████████████████████████████████████▌                             | 57/89 [11:47<12:12, 22.90s/it]\n",
      "\n",
      "\n",
      " 65%|█████████████████████████████████████████████████████▍                            | 58/89 [12:12<12:04, 23.36s/it]\n",
      "\n",
      "\n",
      " 66%|██████████████████████████████████████████████████████▎                           | 59/89 [12:36<11:53, 23.77s/it]\n",
      "\n",
      "\n",
      " 67%|███████████████████████████████████████████████████████▎                          | 60/89 [13:03<11:53, 24.60s/it]\n",
      "\n",
      "\n",
      " 69%|████████████████████████████████████████████████████████▏                         | 61/89 [13:28<11:36, 24.89s/it]\n",
      "\n",
      "\n",
      " 70%|█████████████████████████████████████████████████████████                         | 62/89 [13:54<11:21, 25.24s/it]\n",
      "\n",
      "\n",
      " 71%|██████████████████████████████████████████████████████████                        | 63/89 [14:21<11:04, 25.54s/it]\n",
      "\n",
      "\n",
      " 72%|██████████████████████████████████████████████████████████▉                       | 64/89 [14:47<10:46, 25.86s/it]\n",
      "\n",
      "\n",
      " 73%|███████████████████████████████████████████████████████████▉                      | 65/89 [15:15<10:34, 26.43s/it]\n",
      "\n",
      "\n",
      " 74%|████████████████████████████████████████████████████████████▊                     | 66/89 [15:49<10:57, 28.60s/it]\n",
      "\n",
      "\n",
      " 75%|█████████████████████████████████████████████████████████████▋                    | 67/89 [16:18<10:32, 28.74s/it]\n",
      "\n",
      "\n",
      " 76%|██████████████████████████████████████████████████████████████▋                   | 68/89 [16:46<10:02, 28.71s/it]\n",
      "\n",
      "\n",
      " 78%|███████████████████████████████████████████████████████████████▌                  | 69/89 [17:16<09:36, 28.83s/it]\n",
      "\n",
      "\n",
      " 79%|████████████████████████████████████████████████████████████████▍                 | 70/89 [17:45<09:10, 28.97s/it]\n",
      "\n",
      "\n",
      " 80%|█████████████████████████████████████████████████████████████████▍                | 71/89 [18:15<08:45, 29.20s/it]\n",
      "\n",
      "\n",
      " 81%|██████████████████████████████████████████████████████████████████▎               | 72/89 [18:45<08:20, 29.46s/it]\n",
      "\n",
      "\n",
      " 82%|███████████████████████████████████████████████████████████████████▎              | 73/89 [19:16<07:58, 29.93s/it]\n",
      "\n",
      "\n",
      " 83%|████████████████████████████████████████████████████████████████████▏             | 74/89 [19:47<07:32, 30.19s/it]\n",
      "\n",
      "\n",
      " 84%|█████████████████████████████████████████████████████████████████████             | 75/89 [20:18<07:09, 30.71s/it]\n",
      "\n",
      "\n",
      " 85%|██████████████████████████████████████████████████████████████████████            | 76/89 [20:53<06:53, 31.77s/it]\n",
      "\n",
      "\n",
      " 87%|██████████████████████████████████████████████████████████████████████▉           | 77/89 [21:27<06:29, 32.48s/it]\n",
      "\n",
      "\n",
      " 88%|███████████████████████████████████████████████████████████████████████▊          | 78/89 [22:01<06:04, 33.10s/it]\n",
      "\n",
      "\n",
      " 89%|████████████████████████████████████████████████████████████████████████▊         | 79/89 [22:34<05:29, 33.00s/it]\n",
      "\n",
      "\n",
      " 90%|█████████████████████████████████████████████████████████████████████████▋        | 80/89 [23:08<04:58, 33.18s/it]\n",
      "\n",
      "\n",
      " 91%|██████████████████████████████████████████████████████████████████████████▋       | 81/89 [23:43<04:29, 33.72s/it]\n",
      "\n",
      "\n",
      " 92%|███████████████████████████████████████████████████████████████████████████▌      | 82/89 [24:17<03:57, 33.94s/it]\n",
      "\n",
      "\n",
      " 93%|████████████████████████████████████████████████████████████████████████████▍     | 83/89 [24:52<03:25, 34.27s/it]\n",
      "\n",
      "\n",
      " 94%|█████████████████████████████████████████████████████████████████████████████▍    | 84/89 [25:28<02:53, 34.72s/it]\n",
      "\n",
      "\n",
      " 96%|██████████████████████████████████████████████████████████████████████████████▎   | 85/89 [26:03<02:19, 34.94s/it]\n",
      "\n",
      "\n",
      " 97%|███████████████████████████████████████████████████████████████████████████████▏  | 86/89 [26:39<01:45, 35.27s/it]\n",
      "\n",
      "\n",
      " 98%|████████████████████████████████████████████████████████████████████████████████▏ | 87/89 [27:16<01:11, 35.65s/it]\n",
      "\n",
      "\n",
      " 99%|█████████████████████████████████████████████████████████████████████████████████ | 88/89 [27:53<00:36, 36.01s/it]\n",
      "\n",
      "\n",
      "100%|██████████████████████████████████████████████████████████████████████████████████| 89/89 [28:30<00:00, 19.22s/it]\n"
     ]
    }
   ],
   "source": [
    "# Test with different number of iterations\n",
    "er_train, er_test = [er_tree[0]], [er_tree[1]]\n",
    "x_range = range(10, 900, 10)\n",
    "\n",
    "for i in tqdm(x_range):\n",
    "    er_i = adaboost_clf(Y_train, X_train, Y_test, X_test, i, clf_tree)\n",
    "    er_train.append(er_i[0])\n",
    "    er_test.append(er_i[1])"
   ]
  },
  {
   "cell_type": "code",
   "execution_count": 151,
   "metadata": {},
   "outputs": [],
   "source": [
    "def plot_error_rate(er_train, er_test):\n",
    "    \n",
    "    df_error = pd.DataFrame([er_train, er_test]).T\n",
    "    df_error.columns = ['Training', 'Test']\n",
    "    \n",
    "    plot1 = df_error.plot( linewidth = 3, \n",
    "                           figsize = (12,8),\n",
    "                           color = ['lightblue', 'darkblue'], \n",
    "                           grid = True)\n",
    "    \n",
    "    plot1.set_xlabel('Number of iterations', fontsize = 12)\n",
    "    plot1.set_xticklabels(range(0,900,100))\n",
    "    \n",
    "    plot1.set_ylabel('Error rate', fontsize = 12)\n",
    "    plot1.set_title('Error rate vs number of iterations', fontsize = 16)\n",
    "    \n",
    "    plt.axhline(y=er_test[0], linewidth=1, color = 'red', ls = 'dashed')\n",
    "    \n",
    "    plt.savefig('adaboost.pdf',format='pdf')"
   ]
  },
  {
   "cell_type": "code",
   "execution_count": 152,
   "metadata": {},
   "outputs": [],
   "source": [
    "saved_er_train = er_train\n",
    "saved_er_test = er_test"
   ]
  },
  {
   "cell_type": "code",
   "execution_count": 153,
   "metadata": {},
   "outputs": [
    {
     "name": "stderr",
     "output_type": "stream",
     "text": [
      "c:\\python36\\lib\\site-packages\\ipykernel_launcher.py:12: UserWarning: FixedFormatter should only be used together with FixedLocator\n",
      "  if sys.path[0] == '':\n"
     ]
    },
    {
     "data": {
      "image/png": "[encoded data removed]",
      "text/plain": [
       "<Figure size 864x576 with 1 Axes>"
      ]
     },
     "metadata": {
      "needs_background": "light"
     },
     "output_type": "display_data"
    }
   ],
   "source": [
    "plot_error_rate(saved_er_train, saved_er_test)"
   ]
  },
  {
   "cell_type": "markdown",
   "metadata": {},
   "source": [
    "### Comments :\n",
    "\n",
    "We remarked that even with a number of iterations=900, we still don't see this phenomena. We have also tried with higher number of iterations but it's taking too much time and we get some memory failures issues due to computation limits. \n",
    "\n",
    "Nevertheless, this was interresting and we can conclude that in this problem, the VCdimension is really huge."
   ]
  },
  {
   "cell_type": "markdown",
   "metadata": {},
   "source": [
    "# PCA for dimensionality reduction and image denoising"
   ]
  },
  {
   "cell_type": "code",
   "execution_count": 199,
   "metadata": {},
   "outputs": [],
   "source": [
    "from keras.datasets import mnist"
   ]
  },
  {
   "cell_type": "code",
   "execution_count": 200,
   "metadata": {},
   "outputs": [],
   "source": [
    "(x_train, y_train), (x_test, y_test) = mnist.load_data()"
   ]
  },
  {
   "cell_type": "code",
   "execution_count": 201,
   "metadata": {},
   "outputs": [
    {
     "data": {
      "text/plain": [
       "(60000, 28, 28)"
      ]
     },
     "execution_count": 201,
     "metadata": {},
     "output_type": "execute_result"
    }
   ],
   "source": [
    "x_train.shape"
   ]
  },
  {
   "cell_type": "code",
   "execution_count": 202,
   "metadata": {},
   "outputs": [
    {
     "data": {
      "text/plain": [
       "60000"
      ]
     },
     "execution_count": 202,
     "metadata": {},
     "output_type": "execute_result"
    }
   ],
   "source": [
    "len(x_train)"
   ]
  },
  {
   "cell_type": "code",
   "execution_count": 203,
   "metadata": {},
   "outputs": [],
   "source": [
    "x_train = x_train.reshape(len(x_train), -1)/255\n",
    "x_test = x_test.reshape(len(x_test), -1)/255"
   ]
  },
  {
   "cell_type": "code",
   "execution_count": 204,
   "metadata": {},
   "outputs": [
    {
     "data": {
      "text/plain": [
       "(60000, 784)"
      ]
     },
     "execution_count": 204,
     "metadata": {},
     "output_type": "execute_result"
    }
   ],
   "source": [
    "x_train.shape"
   ]
  },
  {
   "cell_type": "markdown",
   "metadata": {},
   "source": [
    "## Question 1. \n",
    "\n",
    "Compute the eigendecomposition of the sample covariance matrix and use the eigenvalues to calculate the percentage of variance explained (given by the eigenvalues).\n",
    "Plot the cumulative sum of these percentages versus the number of components."
   ]
  },
  {
   "cell_type": "code",
   "execution_count": 205,
   "metadata": {},
   "outputs": [],
   "source": [
    "all_col_mean = np.mean(x_train,0) # np.mean(x,i) -> i : 0 for columns -- 1 for for rows\n",
    "x_bar = x_train - all_col_mean"
   ]
  },
  {
   "cell_type": "code",
   "execution_count": 206,
   "metadata": {},
   "outputs": [],
   "source": [
    "#np.mean(x_bar,0) #The mean of each feature becomes close to zero."
   ]
  },
  {
   "cell_type": "code",
   "execution_count": 207,
   "metadata": {},
   "outputs": [],
   "source": [
    "cov_x = np.cov(x_bar.T) # check what would happen if we do the eigendecomp using X.t*X rather than using cov matrix (there should be a scalar diff)\n",
    "\n",
    "# the scalar is (1/N-1) https://en.wikipedia.org/wiki/Sample_mean_and_covariance"
   ]
  },
  {
   "cell_type": "code",
   "execution_count": 208,
   "metadata": {},
   "outputs": [
    {
     "data": {
      "text/plain": [
       "(784, 784)"
      ]
     },
     "execution_count": 208,
     "metadata": {},
     "output_type": "execute_result"
    }
   ],
   "source": [
    "cov_x.shape"
   ]
  },
  {
   "cell_type": "code",
   "execution_count": 209,
   "metadata": {},
   "outputs": [],
   "source": [
    "w, P = np.linalg.eigh(cov_x)"
   ]
  },
  {
   "cell_type": "code",
   "execution_count": 210,
   "metadata": {},
   "outputs": [],
   "source": [
    "#w"
   ]
  },
  {
   "cell_type": "code",
   "execution_count": 211,
   "metadata": {},
   "outputs": [
    {
     "name": "stdout",
     "output_type": "stream",
     "text": [
      "0.0014637421981606215\n",
      "50.4245130074737\n"
     ]
    }
   ],
   "source": [
    "d= 169\n",
    "print(np.sum(w[:d]))\n",
    "w = -np.sort(-w)\n",
    "print(np.sum(w[:d]))"
   ]
  },
  {
   "cell_type": "code",
   "execution_count": 212,
   "metadata": {},
   "outputs": [],
   "source": [
    "#P[:1 , :169].real"
   ]
  },
  {
   "cell_type": "code",
   "execution_count": 213,
   "metadata": {},
   "outputs": [
    {
     "name": "stdout",
     "output_type": "stream",
     "text": [
      "(784,)\n"
     ]
    }
   ],
   "source": [
    "print(w.shape)"
   ]
  },
  {
   "cell_type": "code",
   "execution_count": 214,
   "metadata": {},
   "outputs": [
    {
     "name": "stdout",
     "output_type": "stream",
     "text": [
      "(784, 784)\n"
     ]
    }
   ],
   "source": [
    "print(P.shape)"
   ]
  },
  {
   "cell_type": "code",
   "execution_count": 215,
   "metadata": {},
   "outputs": [],
   "source": [
    "d= 169\n",
    "w = -np.sort(-w)\n",
    "w_kept = w[:d]\n",
    "P_kept = np.diag(w_kept)"
   ]
  },
  {
   "cell_type": "code",
   "execution_count": 216,
   "metadata": {},
   "outputs": [],
   "source": [
    "#w_kept.real"
   ]
  },
  {
   "cell_type": "code",
   "execution_count": 217,
   "metadata": {},
   "outputs": [],
   "source": [
    "P_kept = P[:500 , :500]"
   ]
  },
  {
   "cell_type": "code",
   "execution_count": 218,
   "metadata": {},
   "outputs": [
    {
     "name": "stdout",
     "output_type": "stream",
     "text": [
      "(500, 500)\n"
     ]
    }
   ],
   "source": [
    "print(P_kept.shape)"
   ]
  },
  {
   "cell_type": "code",
   "execution_count": 219,
   "metadata": {},
   "outputs": [
    {
     "data": {
      "text/plain": [
       "0.9999999999999994"
      ]
     },
     "execution_count": 219,
     "metadata": {},
     "output_type": "execute_result"
    }
   ],
   "source": [
    "percentage_eigen_value = [w[i]/np.sum(w) for i in range(len(w)) ]\n",
    "sum(percentage_eigen_value)"
   ]
  },
  {
   "cell_type": "code",
   "execution_count": 220,
   "metadata": {},
   "outputs": [
    {
     "data": {
      "text/plain": [
       "[<matplotlib.lines.Line2D at 0x21e94842390>]"
      ]
     },
     "execution_count": 220,
     "metadata": {},
     "output_type": "execute_result"
    },
    {
     "data": {
      "image/png": "[encoded data removed]",
      "text/plain": [
       "<Figure size 432x288 with 1 Axes>"
      ]
     },
     "metadata": {
      "needs_background": "light"
     },
     "output_type": "display_data"
    }
   ],
   "source": [
    "plt.plot(percentage_eigen_value)"
   ]
  },
  {
   "cell_type": "code",
   "execution_count": 221,
   "metadata": {},
   "outputs": [],
   "source": [
    "my_cumulative_percentage_eigen_value = [np.sum(percentage_eigen_value[:i]) for i in range(len(w))]"
   ]
  },
  {
   "cell_type": "code",
   "execution_count": 222,
   "metadata": {},
   "outputs": [],
   "source": [
    "cumulative_percentage_eigen_value = np.cumsum(percentage_eigen_value)"
   ]
  },
  {
   "cell_type": "code",
   "execution_count": 223,
   "metadata": {},
   "outputs": [],
   "source": [
    "#cumulative_percentage_eigen_value"
   ]
  },
  {
   "cell_type": "code",
   "execution_count": 224,
   "metadata": {},
   "outputs": [
    {
     "data": {
      "text/plain": [
       "False"
      ]
     },
     "execution_count": 224,
     "metadata": {},
     "output_type": "execute_result"
    }
   ],
   "source": [
    "np.allclose(cumulative_percentage_eigen_value, my_cumulative_percentage_eigen_value,  rtol=1e-05)"
   ]
  },
  {
   "cell_type": "code",
   "execution_count": 225,
   "metadata": {},
   "outputs": [
    {
     "name": "stdout",
     "output_type": "stream",
     "text": [
      "err_precision =  0.9999999999996942\n"
     ]
    }
   ],
   "source": [
    "err_precision = 0\n",
    "for i in range(len(cumulative_percentage_eigen_value)):\n",
    "    err_i = cumulative_percentage_eigen_value[i] - my_cumulative_percentage_eigen_value[i]\n",
    "    err_precision = err_precision + err_i\n",
    "print(\"err_precision = \",err_precision)"
   ]
  },
  {
   "cell_type": "code",
   "execution_count": 226,
   "metadata": {},
   "outputs": [
    {
     "data": {
      "text/plain": [
       "[<matplotlib.lines.Line2D at 0x21e949a73c8>]"
      ]
     },
     "execution_count": 226,
     "metadata": {},
     "output_type": "execute_result"
    },
    {
     "data": {
      "image/png": "[encoded data removed]",
      "text/plain": [
       "<Figure size 432x288 with 1 Axes>"
      ]
     },
     "metadata": {
      "needs_background": "light"
     },
     "output_type": "display_data"
    }
   ],
   "source": [
    "plt.plot(cumulative_percentage_eigen_value)"
   ]
  },
  {
   "cell_type": "code",
   "execution_count": 227,
   "metadata": {},
   "outputs": [
    {
     "data": {
      "text/plain": [
       "[<matplotlib.lines.Line2D at 0x21e955be390>]"
      ]
     },
     "execution_count": 227,
     "metadata": {},
     "output_type": "execute_result"
    },
    {
     "data": {
      "image/png": "[encoded data removed]",
      "text/plain": [
       "<Figure size 432x288 with 1 Axes>"
      ]
     },
     "metadata": {
      "needs_background": "light"
     },
     "output_type": "display_data"
    }
   ],
   "source": [
    "plt.plot(my_cumulative_percentage_eigen_value)"
   ]
  },
  {
   "cell_type": "markdown",
   "metadata": {},
   "source": [
    "### Comments :\n",
    "\n",
    "We can clearly see that more than 90% of the data is contained in the first 100 components. Which means that 100 components are sufficient to describe 90% of the data. We also observe that after, there's a certain monotonity, that is the other components doesn't add much informations.\n",
    "This actually was predictible since in our images the real information (the number) is concentrated in few pixels.\n",
    "\n",
    "We will build a function down bellow that will give us the exact number of dimensions to keep in order to keep a percentage of the original data."
   ]
  },
  {
   "cell_type": "code",
   "execution_count": 228,
   "metadata": {},
   "outputs": [],
   "source": [
    "def findNumberOfDimensionByDesiredCumulativePercentage(cumulative_percentage_eigen_value, desiredCumulativePercentage):\n",
    "    \"\"\" \n",
    "    This function helps us find the number of principale components (dimensions) by keeping only the desired percentage\n",
    "    of informations from the original data.\n",
    "    \"\"\"\n",
    "    \n",
    "    for i in range(len(cumulative_percentage_eigen_value)):\n",
    "        if cumulative_percentage_eigen_value[i] >= desiredCumulativePercentage :\n",
    "            return i"
   ]
  },
  {
   "cell_type": "code",
   "execution_count": 229,
   "metadata": {},
   "outputs": [
    {
     "data": {
      "text/plain": [
       "86"
      ]
     },
     "execution_count": 229,
     "metadata": {},
     "output_type": "execute_result"
    }
   ],
   "source": [
    "desiredCumulativePercentage = 0.90\n",
    "findNumberOfDimensionByDesiredCumulativePercentage(cumulative_percentage_eigen_value, desiredCumulativePercentage)"
   ]
  },
  {
   "cell_type": "markdown",
   "metadata": {},
   "source": [
    "* For example to keep 90% of informations of the data we can keep only 86 dimensions, which can be confirmerd from the figure above."
   ]
  },
  {
   "cell_type": "markdown",
   "metadata": {},
   "source": [
    "## Question 2\n",
    "## PCA Algorithm"
   ]
  },
  {
   "cell_type": "code",
   "execution_count": 230,
   "metadata": {},
   "outputs": [],
   "source": [
    "def PCA(X, forcedNbrDim, desiredCumulativePercentage=0.85, plot=False):\n",
    "    \n",
    "    all_col_mean = np.mean(X,0) # np.mean(x,i) -> i : 0 for columns -- 1 for for rows\n",
    "    # we construct the X bar\n",
    "    x_bar = X - all_col_mean \n",
    "    # covariance matrix\n",
    "    cov_x = np.cov(x_bar.T)     \n",
    "    # SVD\n",
    "    w, P = np.linalg.eig(cov_x)\n",
    "    \n",
    "    percentage_eigen_value = [w[i]/np.sum(w) for i in range(len(w)) ]\n",
    "    print(\"Sum of percentage_eigen_value : \", sum(percentage_eigen_value))\n",
    "    cumulative_percentage_eigen_value = np.cumsum(percentage_eigen_value)\n",
    "    \n",
    "    if plot :\n",
    "        plt.plot(cumulative_percentage_eigen_value)\n",
    "    \n",
    "    # number of dimensions to keep \n",
    "    if forcedNbrDim < 0: # we set a negative forcedDim if we want to use the computation from the cumulative percentage\n",
    "        d = findNumberOfDimensionByDesiredCumulativePercentage(cumulative_percentage_eigen_value, desiredCumulativePercentage)\n",
    "    else :\n",
    "        d = forcedNbrDim\n",
    "    \n",
    "    # we keep only the d first eigein values of P\n",
    "    \n",
    "    P_kept = P[: , :d]\n",
    "    print(\"P_kept : \",P_kept.shape)\n",
    "    print(\"Dimensions to keep : \",d)\n",
    "    #w_kept = w[:d] \n",
    "    #P_kept = np.diag(w_kept)\n",
    "    #Y = np.dot(x_bar, P_kept.real)\n",
    "    \n",
    "    Y = np.dot(x_bar, P_kept)\n",
    "    Xhat = np.dot(Y, P_kept.T) + all_col_mean\n",
    "    \n",
    "    # Errors computations\n",
    "    X_fnom = np.linalg.norm(X, 'fro')\n",
    "    M = X - Xhat\n",
    "    M_fnorm = np.linalg.norm(M, 'fro')\n",
    "    reconstructionError = M_fnorm/X_fnom\n",
    "    print(\"Normalized reconstruction error : \",reconstructionError)\n",
    "    return Xhat, Y, d, reconstructionError"
   ]
  },
  {
   "cell_type": "code",
   "execution_count": 231,
   "metadata": {},
   "outputs": [
    {
     "name": "stdout",
     "output_type": "stream",
     "text": [
      "Sum of percentage_eigen_value :  (0.9999999999999998+0j)\n",
      "P_kept :  (784, 58)\n",
      "Dimensions to keep :  58\n",
      "Normalized reconstruction error :  0.3024527547774581\n"
     ]
    }
   ],
   "source": [
    "desiredCumulativePercentage=0.85\n",
    "forcedNbrDim = -1\n",
    "Xhat, Y, d, reconstructionError = PCA(x_train, forcedNbrDim, desiredCumulativePercentage)"
   ]
  },
  {
   "cell_type": "code",
   "execution_count": 232,
   "metadata": {},
   "outputs": [
    {
     "name": "stdout",
     "output_type": "stream",
     "text": [
      "(60000, 784)\n",
      "(60000, 784)\n",
      "(60000, 58)\n"
     ]
    }
   ],
   "source": [
    "print(x_train.shape)\n",
    "print(Xhat.shape)\n",
    "print(Y.shape)"
   ]
  },
  {
   "cell_type": "code",
   "execution_count": 233,
   "metadata": {},
   "outputs": [
    {
     "data": {
      "text/plain": [
       "(28, 28)"
      ]
     },
     "execution_count": 233,
     "metadata": {},
     "output_type": "execute_result"
    }
   ],
   "source": [
    "Xhat[0].reshape(28,-1).shape"
   ]
  },
  {
   "cell_type": "code",
   "execution_count": 234,
   "metadata": {},
   "outputs": [
    {
     "data": {
      "image/png": "[encoded data removed]",
      "text/plain": [
       "<Figure size 432x288 with 1 Axes>"
      ]
     },
     "metadata": {
      "needs_background": "light"
     },
     "output_type": "display_data"
    },
    {
     "data": {
      "text/plain": [
       "<matplotlib.image.AxesImage at 0x21e922e24a8>"
      ]
     },
     "execution_count": 234,
     "metadata": {},
     "output_type": "execute_result"
    },
    {
     "data": {
      "image/png": "[encoded data removed]",
      "text/plain": [
       "<Figure size 432x288 with 1 Axes>"
      ]
     },
     "metadata": {
      "needs_background": "light"
     },
     "output_type": "display_data"
    }
   ],
   "source": [
    "i = 0\n",
    "y = Xhat[i].real.reshape(28,28)\n",
    "plt.imshow(y)\n",
    "plt.show()\n",
    "y = x_train[i].real.reshape(28,28)\n",
    "plt.imshow(y)"
   ]
  },
  {
   "cell_type": "code",
   "execution_count": 235,
   "metadata": {},
   "outputs": [
    {
     "name": "stdout",
     "output_type": "stream",
     "text": [
      "----------- p =  50 -------------\n",
      "Sum of percentage_eigen_value :  (0.9999999999999998+0j)\n",
      "P_kept :  (784, 50)\n",
      "Dimensions to keep :  50\n",
      "Normalized reconstruction error :  0.3244839105237107\n"
     ]
    },
    {
     "data": {
      "image/png": "[encoded data removed]",
      "text/plain": [
       "<Figure size 432x288 with 1 Axes>"
      ]
     },
     "metadata": {
      "needs_background": "light"
     },
     "output_type": "display_data"
    },
    {
     "data": {
      "image/png": "[encoded data removed]",
      "text/plain": [
       "<Figure size 432x288 with 1 Axes>"
      ]
     },
     "metadata": {
      "needs_background": "light"
     },
     "output_type": "display_data"
    },
    {
     "name": "stdout",
     "output_type": "stream",
     "text": [
      "\n",
      "\n",
      "----------- p =  250 -------------\n",
      "Sum of percentage_eigen_value :  (0.9999999999999998+0j)\n",
      "P_kept :  (784, 250)\n",
      "Dimensions to keep :  250\n",
      "Normalized reconstruction error :  0.11476437541142882\n"
     ]
    },
    {
     "data": {
      "image/png": "[encoded data removed]",
      "text/plain": [
       "<Figure size 432x288 with 1 Axes>"
      ]
     },
     "metadata": {
      "needs_background": "light"
     },
     "output_type": "display_data"
    },
    {
     "data": {
      "image/png": "[encoded data removed]",
      "text/plain": [
       "<Figure size 432x288 with 1 Axes>"
      ]
     },
     "metadata": {
      "needs_background": "light"
     },
     "output_type": "display_data"
    },
    {
     "name": "stdout",
     "output_type": "stream",
     "text": [
      "\n",
      "\n",
      "----------- p =  500 -------------\n",
      "Sum of percentage_eigen_value :  (0.9999999999999998+0j)\n",
      "P_kept :  (784, 500)\n",
      "Dimensions to keep :  500\n",
      "Normalized reconstruction error :  0.02121724407664908\n"
     ]
    },
    {
     "data": {
      "image/png": "[encoded data removed]",
      "text/plain": [
       "<Figure size 432x288 with 1 Axes>"
      ]
     },
     "metadata": {
      "needs_background": "light"
     },
     "output_type": "display_data"
    },
    {
     "data": {
      "image/png": "[encoded data removed]",
      "text/plain": [
       "<Figure size 432x288 with 1 Axes>"
      ]
     },
     "metadata": {
      "needs_background": "light"
     },
     "output_type": "display_data"
    },
    {
     "name": "stdout",
     "output_type": "stream",
     "text": [
      "\n",
      "\n",
      "[0.3244839105237107, 0.11476437541142882, 0.02121724407664908]\n"
     ]
    }
   ],
   "source": [
    "dimensions = [50, 250, 500]\n",
    "reconstructionErrors = []\n",
    "for p in dimensions :\n",
    "    print(\"----------- p = \",p,\"-------------\")\n",
    "    Xhat, Y, d, reconstructionError = PCA(x_train, p, desiredCumulativePercentage)\n",
    "    reconstructionErrors.append(reconstructionError)\n",
    "    \n",
    "    i = 0\n",
    "    xhat_im = Xhat[i].real.reshape(28,28)\n",
    "    plt.imshow(xhat_im)\n",
    "    plt.show()\n",
    "    x_im = x_train[i].real.reshape(28,28)\n",
    "    plt.imshow(x_im)\n",
    "    plt.title('label %d'%(y_train[i]))\n",
    "    plt.show()\n",
    "    print(\"\\n\")\n",
    "    \n",
    "print(reconstructionErrors)"
   ]
  },
  {
   "cell_type": "markdown",
   "metadata": {},
   "source": [
    "## Playing with the images\n",
    "\n",
    "\n",
    "## Question 3\n",
    "### Adding Noise to image data"
   ]
  },
  {
   "cell_type": "code",
   "execution_count": 236,
   "metadata": {},
   "outputs": [],
   "source": [
    "def generateNoise(data, sigma2, mean=0):\n",
    "    \n",
    "    #cov_matrix = sigma2*np.diag([1,1])\n",
    "    #bruit = sigma2*np.random.multivariate_normal(mean, cov_matrix, data.shape[0])\n",
    "    \n",
    "    bruit = np.random.normal(mean, sigma2, data.shape)       #(data.shape[0], data.shape[1])      \n",
    "    \n",
    "    # we add the noise\n",
    "    data_bruite = data + bruit\n",
    "    \n",
    "    # Rescalling the pixels new values to [0,255]  to avoid having pixels with values greater than 255 or less than 0.\n",
    "    #data_bruite[ data_bruite > 255 ] = 255 \n",
    "    #data_bruite[ data_bruite < 0 ] = 0\n",
    "    data_bruite = np.clip(data_bruite, 0, 1)\n",
    "    #reshaping the data\n",
    "    data_bruite[0].reshape(28,28).shape\n",
    "    \n",
    "    return data_bruite\n",
    "    \n",
    "def plotImageData(nbrImageToPlot, data, label):\n",
    "    \n",
    "    for k in range(nbrImageToPlot):\n",
    "        plt.imshow(data[k].reshape(28,28))\n",
    "        plt.title('label %d'%(label[k]))\n",
    "        plt.show()\n",
    "\n",
    "def addNoiseToData(data, label, sigma2, nbrImageToPlot, mean=0) :\n",
    "    \n",
    "    data_bruite = generateNoise(data, sigma2, mean)\n",
    "    plotImageData(nbrImageToPlot, data_bruite, label)\n",
    "    \n",
    "    return data_bruite"
   ]
  },
  {
   "cell_type": "code",
   "execution_count": 237,
   "metadata": {},
   "outputs": [
    {
     "data": {
      "text/plain": [
       "(28, 28)"
      ]
     },
     "execution_count": 237,
     "metadata": {},
     "output_type": "execute_result"
    }
   ],
   "source": [
    "x_train[0].reshape(28,28).shape"
   ]
  },
  {
   "cell_type": "code",
   "execution_count": 238,
   "metadata": {},
   "outputs": [
    {
     "data": {
      "image/png": "[encoded data removed]",
      "text/plain": [
       "<Figure size 432x288 with 1 Axes>"
      ]
     },
     "metadata": {
      "needs_background": "light"
     },
     "output_type": "display_data"
    },
    {
     "data": {
      "image/png": "[encoded data removed]",
      "text/plain": [
       "<Figure size 432x288 with 1 Axes>"
      ]
     },
     "metadata": {
      "needs_background": "light"
     },
     "output_type": "display_data"
    },
    {
     "name": "stdout",
     "output_type": "stream",
     "text": [
      "min :  0.0\n",
      "max :  1.0\n"
     ]
    }
   ],
   "source": [
    "sigma2 = 0.25\n",
    "mean = 0\n",
    "nbrImageToPlot = 2\n",
    "data_bruite = addNoiseToData(x_train, y_train, sigma2, nbrImageToPlot, mean)\n",
    "print(\"min : \",np.min(data_bruite))\n",
    "print(\"max : \",np.max(data_bruite))"
   ]
  },
  {
   "cell_type": "code",
   "execution_count": 239,
   "metadata": {},
   "outputs": [
    {
     "name": "stdout",
     "output_type": "stream",
     "text": [
      "Sum of percentage_eigen_value :  1.0000000000000002\n",
      "P_kept :  (784, 534)\n",
      "Dimensions to keep :  534\n",
      "Normalized reconstruction error :  0.2311192696947146\n"
     ]
    },
    {
     "data": {
      "image/png": "[encoded data removed]",
      "text/plain": [
       "<Figure size 432x288 with 1 Axes>"
      ]
     },
     "metadata": {
      "needs_background": "light"
     },
     "output_type": "display_data"
    }
   ],
   "source": [
    "desiredCumulativePercentage=0.9\n",
    "forcedNbrDim = -1\n",
    "Xhat, Y, d, reconstructionError = PCA(data_bruite, forcedNbrDim, desiredCumulativePercentage, plot=True)"
   ]
  },
  {
   "cell_type": "markdown",
   "metadata": {},
   "source": [
    "### Comments : \n",
    "\n",
    "In the case where we added the noise, we don't have the same curve for the cumulative explained variance versus the number of components. In fact, this is due to the fact that when there's a noise in the data, each components adds informations and thus is no more useless.\n",
    "\n",
    "We need 534 component to describe 90% of the data, which is almost 5 times higher than the first case without noise.\n",
    "\n",
    "To put in contrast with we had seen in the first, here the real information is hidded by the noise rather then being clear and  concentrated in few pixels."
   ]
  },
  {
   "cell_type": "code",
   "execution_count": 240,
   "metadata": {},
   "outputs": [
    {
     "name": "stdout",
     "output_type": "stream",
     "text": [
      "Sum of percentage_eigen_value :  1.0000000000000002\n",
      "P_kept :  (784, 534)\n",
      "Dimensions to keep :  534\n",
      "Normalized reconstruction error :  0.2311192696947146\n"
     ]
    }
   ],
   "source": [
    "desiredCumulativePercentage=0.9\n",
    "forcedNbrDim = -1\n",
    "\n",
    "Xhat_test, Y, d, reconstructionError = PCA(data_bruite, forcedNbrDim, desiredCumulativePercentage)"
   ]
  },
  {
   "cell_type": "code",
   "execution_count": 241,
   "metadata": {},
   "outputs": [
    {
     "data": {
      "image/png": "[encoded data removed]",
      "text/plain": [
       "<Figure size 432x288 with 1 Axes>"
      ]
     },
     "metadata": {
      "needs_background": "light"
     },
     "output_type": "display_data"
    },
    {
     "data": {
      "image/png": "[encoded data removed]",
      "text/plain": [
       "<Figure size 432x288 with 1 Axes>"
      ]
     },
     "metadata": {
      "needs_background": "light"
     },
     "output_type": "display_data"
    }
   ],
   "source": [
    "i = 0\n",
    "\n",
    "xhat_im = Xhat_test[i].real.reshape(28,28)\n",
    "plt.imshow(xhat_im)\n",
    "plt.title('Recovered data - label %d'%(y_train[i]))\n",
    "plt.show()\n",
    "\n",
    "x_im = data_bruite[i].real.reshape(28,28)\n",
    "plt.imshow(x_im)\n",
    "plt.title('Original data - label %d'%(y_train[i]))\n",
    "plt.show()"
   ]
  },
  {
   "cell_type": "markdown",
   "metadata": {},
   "source": [
    "## Question 4"
   ]
  },
  {
   "cell_type": "code",
   "execution_count": 242,
   "metadata": {},
   "outputs": [
    {
     "name": "stdout",
     "output_type": "stream",
     "text": [
      "----------- sigma2 =  0.15 -------------\n",
      "Sum of percentage_eigen_value :  1.0000000000000004\n",
      "P_kept :  (784, 250)\n",
      "Dimensions to keep :  250\n",
      "Normalized reconstruction error :  0.2456716415799223\n"
     ]
    },
    {
     "data": {
      "image/png": "[encoded data removed]",
      "text/plain": [
       "<Figure size 432x288 with 1 Axes>"
      ]
     },
     "metadata": {
      "needs_background": "light"
     },
     "output_type": "display_data"
    },
    {
     "data": {
      "image/png": "[encoded data removed]",
      "text/plain": [
       "<Figure size 432x288 with 1 Axes>"
      ]
     },
     "metadata": {
      "needs_background": "light"
     },
     "output_type": "display_data"
    },
    {
     "name": "stdout",
     "output_type": "stream",
     "text": [
      "\n",
      "\n",
      "----------- sigma2 =  0.25 -------------\n",
      "Sum of percentage_eigen_value :  0.9999999999999986\n",
      "P_kept :  (784, 250)\n",
      "Dimensions to keep :  250\n",
      "Normalized reconstruction error :  0.35659711316604\n"
     ]
    },
    {
     "data": {
      "image/png": "[encoded data removed]",
      "text/plain": [
       "<Figure size 432x288 with 1 Axes>"
      ]
     },
     "metadata": {
      "needs_background": "light"
     },
     "output_type": "display_data"
    },
    {
     "data": {
      "image/png": "[encoded data removed]",
      "text/plain": [
       "<Figure size 432x288 with 1 Axes>"
      ]
     },
     "metadata": {
      "needs_background": "light"
     },
     "output_type": "display_data"
    },
    {
     "name": "stdout",
     "output_type": "stream",
     "text": [
      "\n",
      "\n",
      "----------- sigma2 =  0.5 -------------\n",
      "Sum of percentage_eigen_value :  0.9999999999999998\n",
      "P_kept :  (784, 250)\n",
      "Dimensions to keep :  250\n",
      "Normalized reconstruction error :  0.5291718023757181\n"
     ]
    },
    {
     "data": {
      "image/png": "[encoded data removed]",
      "text/plain": [
       "<Figure size 432x288 with 1 Axes>"
      ]
     },
     "metadata": {
      "needs_background": "light"
     },
     "output_type": "display_data"
    },
    {
     "data": {
      "image/png": "[encoded data removed]",
      "text/plain": [
       "<Figure size 432x288 with 1 Axes>"
      ]
     },
     "metadata": {
      "needs_background": "light"
     },
     "output_type": "display_data"
    },
    {
     "name": "stdout",
     "output_type": "stream",
     "text": [
      "\n",
      "\n",
      "[0.2456716415799223, 0.35659711316604, 0.5291718023757181]\n",
      "[250, 250, 250]\n"
     ]
    }
   ],
   "source": [
    "sigmas2 = [0.15, 0.25, 0.50]\n",
    "mean = 0\n",
    "reconstructionErrors = []\n",
    "dimensionsToKeep = []\n",
    "\n",
    "for sigma2 in sigmas2 :\n",
    "    print(\"----------- sigma2 = \",sigma2,\"-------------\")\n",
    "    data_bruite = addNoiseToData(x_train, y_train, sigma2, 0, mean)\n",
    "    \n",
    "    forcedNbrDim = 250\n",
    "    desiredCumulativePercentage= 0.85 # not really usefull here, we already fixed forcedNbrDim to 250, use just for the PCA function params definition\n",
    "    \n",
    "    Xhat, Y, d, reconstructionError = PCA(data_bruite, forcedNbrDim, desiredCumulativePercentage)\n",
    "    reconstructionErrors.append(reconstructionError)\n",
    "    dimensionsToKeep.append(d)\n",
    "    \n",
    "    i = 0\n",
    "   \n",
    "    x_im = data_bruite[i].real.reshape(28,28)\n",
    "    plt.imshow(x_im)\n",
    "    plt.title('Noisy data - label %d'%(y_train[i]))\n",
    "    plt.show()\n",
    "    \n",
    "    xhat_im = Xhat[i].real.reshape(28,28)\n",
    "    plt.imshow(xhat_im)\n",
    "    plt.title('Recovered data - label %d'%(y_train[i]))\n",
    "    plt.show()\n",
    "    \n",
    "    print(\"\\n\")\n",
    "    \n",
    "print(reconstructionErrors)\n",
    "print(dimensionsToKeep)"
   ]
  },
  {
   "cell_type": "code",
   "execution_count": 243,
   "metadata": {},
   "outputs": [
    {
     "data": {
      "text/plain": [
       "Text(0, 0.5, 'Reconstruction error')"
      ]
     },
     "execution_count": 243,
     "metadata": {},
     "output_type": "execute_result"
    },
    {
     "data": {
      "image/png": "[encoded data removed]",
      "text/plain": [
       "<Figure size 432x288 with 1 Axes>"
      ]
     },
     "metadata": {
      "needs_background": "light"
     },
     "output_type": "display_data"
    }
   ],
   "source": [
    "plt.plot(sigmas2, reconstructionErrors, '-o')\n",
    "plt.title(\"Reconstruction error by variance\")\n",
    "plt.xlabel('Variance')\n",
    "plt.ylabel('Reconstruction error')"
   ]
  },
  {
   "cell_type": "markdown",
   "metadata": {},
   "source": [
    "### Comments : \n",
    "\n",
    "By fixing the number of components to keep to 250 and varying the variance, we see that the reconstruction error grows with the variance growing as shown in the Figure above.\n",
    "Actually what happens is that, we are not only removing the noise component, but also part of the energy related to the input data, therefore the reconstruction error grows."
   ]
  }
 ],
 "metadata": {
  "kernelspec": {
   "display_name": "Python 3",
   "language": "python",
   "name": "python3"
  },
  "language_info": {
   "codemirror_mode": {
    "name": "ipython",
    "version": 3
   },
   "file_extension": ".py",
   "mimetype": "text/x-python",
   "name": "python",
   "nbconvert_exporter": "python",
   "pygments_lexer": "ipython3",
   "version": "3.6.8"
  }
 },
 "nbformat": 4,
 "nbformat_minor": 2
}
